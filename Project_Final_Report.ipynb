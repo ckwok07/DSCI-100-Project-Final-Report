{
 "cells": [
  {
   "cell_type": "code",
   "execution_count": 2,
   "id": "a670ad13-eda4-4607-88ea-dc24f4903532",
   "metadata": {},
   "outputs": [],
   "source": [
    "library(tidyverse)\n",
    "library(repr)\n",
    "library(broom)\n",
    "library(rvest)\n",
    "options(repr.matrix.max.rows = 10) #limits output of dataframes to 10 rows"
   ]
  },
  {
   "cell_type": "markdown",
   "id": "cbb0a156-8656-4ba1-90cd-186f4f385d4b",
   "metadata": {},
   "source": [
    "# Project Final Report"
   ]
  },
  {
   "cell_type": "markdown",
   "id": "c8496964-b5f0-41ff-b6e2-0c2e8ac89d21",
   "metadata": {},
   "source": [
    "## Introduction\n",
    "\n",
    "#### General Information\n",
    "This Final Report will be conducted on datasets provided by a research group in Computer Science at UBC, led by Frank Wood, in which the research group collected data about how players play video games. The datasets provided include `players.csv`, which provides the general information about each participant, and `sessions.csv`, which provides individual session information from each player.  \n",
    "\n",
    "#### Aim\n",
    "\n",
    "The aim of this final report is to gain relevent information regarding two questions. Firstly a broad question\n",
    "* Which player characteristics and behaviours are most predictive of subscribing to a game-related newsletter, and how do these features differ between various player types?\n",
    "\n",
    "and secondly, a more specific question\n",
    "* How accurately can age predict subscription to a game-related newsletter compared to hours played in `players.csv`?\n",
    "\n",
    "By doing so, we can help the computer science research group and their stakeholders understand their data using our specific question to gain insight into the broader question.  \n",
    "\n",
    "#### Datasets\n",
    "\n",
    "As stated in our specific question, we will be working on the dataset `players.csv`. \n",
    "\n",
    "#### Data Characteristics  \n",
    "The `players.csv` represents 196 individuals who particiapated in the study, described by 7 features, including:\n",
    "* `experience <chr>` - Player's experience\n",
    "* `subscribe <lgl>` - Whether the player subscribed to a video game newsletter\n",
    "* `hashedEmail <chr>` - Unique identifier for each player\n",
    "* `played_hours <dbl>` - Total hours played\n",
    "* `name <chr>` - First Name\n",
    "* `gender <chr>` - Gender\n",
    "* `age <dbl>` - Age in years\n",
    "\n",
    "##### Data Summary\n",
    "* `experience` is composed of\n",
    "    * `Beginner`\n",
    "    * `Amateur`\n",
    "    * `Regular`\n",
    "    * `Veteran`\n",
    "    * `Pro`\n",
    "* `subscribe` is composed of 52 `TRUE` and 144 `FALSE`  \n",
    "* `gender` is composed of\n",
    "    * `Male`\n",
    "    * `Female`\n",
    "    * `Non-binary`\n",
    "    * `Two-Spirited`\n",
    "    * `Agender`\n",
    "    * `Other`\n",
    "    * `Prefer not to say`\n",
    "* `played_hours`\n",
    "    * Maximum - 223.1 hours\n",
    "    * Minimum - 0 hours\n",
    "    * Average - 5.845918 Hours\n",
    "* `Age`\n",
    "    * Oldest - 50 years\n",
    "    * Youngest - 8 years\n",
    "    * Mean - 20.52 years\n",
    "\n",
    "\n",
    "##### Potential Issues\n",
    "* Column `Age` contains `NA`\n",
    "* Dataset is male dominated\n",
    "* Dataset is majority Amateur players.\n",
    "* Order of experience not specified, we will be assuming `Beginner -> Amateur -> Regular -> Pro -> Veteran`"
   ]
  },
  {
   "cell_type": "markdown",
   "id": "767f48a8-9e76-4348-a9fe-ab117536b87f",
   "metadata": {},
   "source": [
    "## Methods and Results"
   ]
  },
  {
   "cell_type": "markdown",
   "id": "e75df533-64b8-42c5-8797-34dc73ad7e2b",
   "metadata": {},
   "source": [
    "## Discussion"
   ]
  },
  {
   "cell_type": "code",
   "execution_count": null,
   "id": "cc31759d-e36a-4dd7-97d4-2b412c12d93d",
   "metadata": {},
   "outputs": [],
   "source": []
  }
 ],
 "metadata": {
  "kernelspec": {
   "display_name": "R",
   "language": "R",
   "name": "ir"
  },
  "language_info": {
   "codemirror_mode": "r",
   "file_extension": ".r",
   "mimetype": "text/x-r-source",
   "name": "R",
   "pygments_lexer": "r",
   "version": "4.3.3"
  }
 },
 "nbformat": 4,
 "nbformat_minor": 5
}
